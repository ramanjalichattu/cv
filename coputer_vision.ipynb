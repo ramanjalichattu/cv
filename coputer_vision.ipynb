{
  "nbformat": 4,
  "nbformat_minor": 0,
  "metadata": {
    "colab": {
      "provenance": [],
      "toc_visible": true,
      "authorship_tag": "ABX9TyNFk/TeMGkTsnH1nUxfkLN9",
      "include_colab_link": true
    },
    "kernelspec": {
      "name": "python3",
      "display_name": "Python 3"
    },
    "language_info": {
      "name": "python"
    }
  },
  "cells": [
    {
      "cell_type": "markdown",
      "metadata": {
        "id": "view-in-github",
        "colab_type": "text"
      },
      "source": [
        "<a href=\"https://colab.research.google.com/github/ramanjalichattu/cv/blob/main/coputer_vision.ipynb\" target=\"_parent\"><img src=\"https://colab.research.google.com/assets/colab-badge.svg\" alt=\"Open In Colab\"/></a>"
      ]
    },
    {
      "cell_type": "markdown",
      "source": [
        "# **Import Library**"
      ],
      "metadata": {
        "id": "yoe0LMWe9c4V"
      }
    },
    {
      "cell_type": "code",
      "source": [
        "import pandas as pd"
      ],
      "metadata": {
        "id": "zI6XVq6e9qYj"
      },
      "execution_count": 1,
      "outputs": []
    },
    {
      "cell_type": "code",
      "source": [
        "import numpy as np"
      ],
      "metadata": {
        "id": "GQEa13ca91s6"
      },
      "execution_count": 2,
      "outputs": []
    },
    {
      "cell_type": "code",
      "source": [
        "import matplotlib.pyplot as plt\n"
      ],
      "metadata": {
        "id": "UiFa_5H396B7"
      },
      "execution_count": 3,
      "outputs": []
    },
    {
      "cell_type": "markdown",
      "source": [
        "**Import** **Data**"
      ],
      "metadata": {
        "id": "JOTnMrJp9_wo"
      }
    },
    {
      "cell_type": "code",
      "source": [
        "from sklearn.datasets import load_digits"
      ],
      "metadata": {
        "id": "3hHQubSP-DGV"
      },
      "execution_count": 4,
      "outputs": []
    },
    {
      "cell_type": "code",
      "source": [
        "df=load_digits()"
      ],
      "metadata": {
        "id": "W9Y20rjR-KLb"
      },
      "execution_count": 5,
      "outputs": []
    },
    {
      "cell_type": "code",
      "source": [
        "_, axes=plt.subplots(nrows=1,ncols=4,figsize=(10,3))\n",
        "for ax,image,label in zip(axes,df.images,df.target):\n",
        "    ax.set_axis_off()\n",
        "    ax.imshow(image,cmap=plt.cm.gray_r,interpolation=\"nearest\")\n",
        "    ax.set_title(\"Training: %i\" % label)"
      ],
      "metadata": {
        "colab": {
          "base_uri": "https://localhost:8080/",
          "height": 168
        },
        "id": "5uPJ7Kus-P6N",
        "outputId": "ef5ac952-a701-4667-97da-7ae2e960046f"
      },
      "execution_count": 6,
      "outputs": [
        {
          "output_type": "display_data",
          "data": {
            "text/plain": [
              "<Figure size 720x216 with 4 Axes>"
            ],
            "image/png": "[encoded data removed]"
          },
          "metadata": {
            "needs_background": "light"
          }
        }
      ]
    },
    {
      "cell_type": "code",
      "source": [
        "df.images.shape"
      ],
      "metadata": {
        "colab": {
          "base_uri": "https://localhost:8080/"
        },
        "id": "7X89lYM2_DTc",
        "outputId": "7443a96b-5a9b-421c-dc37-26b7fffe0e8f"
      },
      "execution_count": 7,
      "outputs": [
        {
          "output_type": "execute_result",
          "data": {
            "text/plain": [
              "(1797, 8, 8)"
            ]
          },
          "metadata": {},
          "execution_count": 7
        }
      ]
    },
    {
      "cell_type": "code",
      "source": [
        "df.images[0]"
      ],
      "metadata": {
        "colab": {
          "base_uri": "https://localhost:8080/"
        },
        "id": "pdFwUt1E_JFr",
        "outputId": "3a8c8bc7-5127-4536-e096-0a5741471e36"
      },
      "execution_count": 8,
      "outputs": [
        {
          "output_type": "execute_result",
          "data": {
            "text/plain": [
              "array([[ 0.,  0.,  5., 13.,  9.,  1.,  0.,  0.],\n",
              "       [ 0.,  0., 13., 15., 10., 15.,  5.,  0.],\n",
              "       [ 0.,  3., 15.,  2.,  0., 11.,  8.,  0.],\n",
              "       [ 0.,  4., 12.,  0.,  0.,  8.,  8.,  0.],\n",
              "       [ 0.,  5.,  8.,  0.,  0.,  9.,  8.,  0.],\n",
              "       [ 0.,  4., 11.,  0.,  1., 12.,  7.,  0.],\n",
              "       [ 0.,  2., 14.,  5., 10., 12.,  0.,  0.],\n",
              "       [ 0.,  0.,  6., 13., 10.,  0.,  0.,  0.]])"
            ]
          },
          "metadata": {},
          "execution_count": 8
        }
      ]
    },
    {
      "cell_type": "code",
      "source": [
        "df.images[0].shape"
      ],
      "metadata": {
        "colab": {
          "base_uri": "https://localhost:8080/"
        },
        "id": "9PWPq5UJ_O_E",
        "outputId": "ee57042f-5583-4478-e330-bf3ae5ffc489"
      },
      "execution_count": 9,
      "outputs": [
        {
          "output_type": "execute_result",
          "data": {
            "text/plain": [
              "(8, 8)"
            ]
          },
          "metadata": {},
          "execution_count": 9
        }
      ]
    },
    {
      "cell_type": "code",
      "source": [
        "len(df.images)"
      ],
      "metadata": {
        "colab": {
          "base_uri": "https://localhost:8080/"
        },
        "id": "Oh4MfuWV_Qy1",
        "outputId": "09ffe616-3f4d-4f5c-e8cd-fc54ba0581f8"
      },
      "execution_count": 10,
      "outputs": [
        {
          "output_type": "execute_result",
          "data": {
            "text/plain": [
              "1797"
            ]
          },
          "metadata": {},
          "execution_count": 10
        }
      ]
    },
    {
      "cell_type": "code",
      "source": [
        "n_samples=len(df.images)\n",
        "data=df.images.reshape((n_samples, -1))"
      ],
      "metadata": {
        "id": "W7NnVHSI_u-E"
      },
      "execution_count": 14,
      "outputs": []
    },
    {
      "cell_type": "code",
      "source": [
        "data[0]"
      ],
      "metadata": {
        "colab": {
          "base_uri": "https://localhost:8080/"
        },
        "id": "4iLErjVo_3y4",
        "outputId": "905a50b6-98e5-47fa-96e6-45f9c502cffb"
      },
      "execution_count": 15,
      "outputs": [
        {
          "output_type": "execute_result",
          "data": {
            "text/plain": [
              "array([ 0.,  0.,  5., 13.,  9.,  1.,  0.,  0.,  0.,  0., 13., 15., 10.,\n",
              "       15.,  5.,  0.,  0.,  3., 15.,  2.,  0., 11.,  8.,  0.,  0.,  4.,\n",
              "       12.,  0.,  0.,  8.,  8.,  0.,  0.,  5.,  8.,  0.,  0.,  9.,  8.,\n",
              "        0.,  0.,  4., 11.,  0.,  1., 12.,  7.,  0.,  0.,  2., 14.,  5.,\n",
              "       10., 12.,  0.,  0.,  0.,  0.,  6., 13., 10.,  0.,  0.,  0.])"
            ]
          },
          "metadata": {},
          "execution_count": 15
        }
      ]
    },
    {
      "cell_type": "code",
      "source": [
        "data[0].shape"
      ],
      "metadata": {
        "colab": {
          "base_uri": "https://localhost:8080/"
        },
        "id": "YOxCVzT8AI2G",
        "outputId": "edff2d1e-b8dc-4d24-eac0-48ed06d63ed5"
      },
      "execution_count": 16,
      "outputs": [
        {
          "output_type": "execute_result",
          "data": {
            "text/plain": [
              "(64,)"
            ]
          },
          "metadata": {},
          "execution_count": 16
        }
      ]
    },
    {
      "cell_type": "code",
      "source": [
        "data.shape"
      ],
      "metadata": {
        "colab": {
          "base_uri": "https://localhost:8080/"
        },
        "id": "C6gUNSNtAMj3",
        "outputId": "084aaf3b-4be1-4851-d677-ad86c23fcd25"
      },
      "execution_count": 17,
      "outputs": [
        {
          "output_type": "execute_result",
          "data": {
            "text/plain": [
              "(1797, 64)"
            ]
          },
          "metadata": {},
          "execution_count": 17
        }
      ]
    },
    {
      "cell_type": "markdown",
      "source": [
        "\n",
        "**Scalling** **Image** **Data**\n",
        "\n"
      ],
      "metadata": {
        "id": "2L9Al6m6APep"
      }
    },
    {
      "cell_type": "code",
      "source": [
        "data.min()"
      ],
      "metadata": {
        "colab": {
          "base_uri": "https://localhost:8080/"
        },
        "id": "X8A190g7ATnN",
        "outputId": "14b412db-6c0c-4b6d-bd0f-04ff316bf821"
      },
      "execution_count": 18,
      "outputs": [
        {
          "output_type": "execute_result",
          "data": {
            "text/plain": [
              "0.0"
            ]
          },
          "metadata": {},
          "execution_count": 18
        }
      ]
    },
    {
      "cell_type": "code",
      "source": [
        "data.max()"
      ],
      "metadata": {
        "colab": {
          "base_uri": "https://localhost:8080/"
        },
        "id": "pY9chc59AXSg",
        "outputId": "923bd722-4f0c-4c73-cb7f-09de7b19a57a"
      },
      "execution_count": 19,
      "outputs": [
        {
          "output_type": "execute_result",
          "data": {
            "text/plain": [
              "16.0"
            ]
          },
          "metadata": {},
          "execution_count": 19
        }
      ]
    },
    {
      "cell_type": "code",
      "source": [
        "data=data/16"
      ],
      "metadata": {
        "id": "mifOS4igAbY0"
      },
      "execution_count": 20,
      "outputs": []
    },
    {
      "cell_type": "code",
      "source": [
        "data.min()"
      ],
      "metadata": {
        "colab": {
          "base_uri": "https://localhost:8080/"
        },
        "id": "ZPuAOK4SAf-e",
        "outputId": "06c3633b-9d38-4948-fc3a-5e72105dcd3b"
      },
      "execution_count": 21,
      "outputs": [
        {
          "output_type": "execute_result",
          "data": {
            "text/plain": [
              "0.0"
            ]
          },
          "metadata": {},
          "execution_count": 21
        }
      ]
    },
    {
      "cell_type": "code",
      "source": [
        "data.max()"
      ],
      "metadata": {
        "colab": {
          "base_uri": "https://localhost:8080/"
        },
        "id": "FJGCeoYPNNTb",
        "outputId": "b9afc07b-c4f8-47b4-ae97-81b7e7541ef5"
      },
      "execution_count": 22,
      "outputs": [
        {
          "output_type": "execute_result",
          "data": {
            "text/plain": [
              "1.0"
            ]
          },
          "metadata": {},
          "execution_count": 22
        }
      ]
    },
    {
      "cell_type": "code",
      "source": [
        "data[0]"
      ],
      "metadata": {
        "colab": {
          "base_uri": "https://localhost:8080/"
        },
        "id": "rAMkxHeXNNhC",
        "outputId": "9665a3de-1480-4b49-f616-441eb35e249a"
      },
      "execution_count": 23,
      "outputs": [
        {
          "output_type": "execute_result",
          "data": {
            "text/plain": [
              "array([0.    , 0.    , 0.3125, 0.8125, 0.5625, 0.0625, 0.    , 0.    ,\n",
              "       0.    , 0.    , 0.8125, 0.9375, 0.625 , 0.9375, 0.3125, 0.    ,\n",
              "       0.    , 0.1875, 0.9375, 0.125 , 0.    , 0.6875, 0.5   , 0.    ,\n",
              "       0.    , 0.25  , 0.75  , 0.    , 0.    , 0.5   , 0.5   , 0.    ,\n",
              "       0.    , 0.3125, 0.5   , 0.    , 0.    , 0.5625, 0.5   , 0.    ,\n",
              "       0.    , 0.25  , 0.6875, 0.    , 0.0625, 0.75  , 0.4375, 0.    ,\n",
              "       0.    , 0.125 , 0.875 , 0.3125, 0.625 , 0.75  , 0.    , 0.    ,\n",
              "       0.    , 0.    , 0.375 , 0.8125, 0.625 , 0.    , 0.    , 0.    ])"
            ]
          },
          "metadata": {},
          "execution_count": 23
        }
      ]
    },
    {
      "cell_type": "markdown",
      "source": [
        "**Test** **Split** ***Data***\n",
        "\n",
        "\n"
      ],
      "metadata": {
        "id": "ule567H6Npga"
      }
    },
    {
      "cell_type": "code",
      "source": [
        "from sklearn.model_selection import train_test_split"
      ],
      "metadata": {
        "id": "bsMnQwQMNtYs"
      },
      "execution_count": 24,
      "outputs": []
    },
    {
      "cell_type": "code",
      "source": [
        "X_train,X_test,y_train,y_test=train_test_split(data,df.target)"
      ],
      "metadata": {
        "id": "jB-OmL0pN4PZ"
      },
      "execution_count": 28,
      "outputs": []
    },
    {
      "cell_type": "code",
      "source": [
        "X_train.shape,X_test.shape,y_train.shape,y_train.shape\n"
      ],
      "metadata": {
        "colab": {
          "base_uri": "https://localhost:8080/"
        },
        "id": "iU-DyWmhODAX",
        "outputId": "17261eab-eb8f-4388-bd19-b0611c59dc16"
      },
      "execution_count": 29,
      "outputs": [
        {
          "output_type": "execute_result",
          "data": {
            "text/plain": [
              "((1347, 64), (450, 64), (1347,), (1347,))"
            ]
          },
          "metadata": {},
          "execution_count": 29
        }
      ]
    },
    {
      "cell_type": "markdown",
      "source": [
        "**Random** **Forest** **Model**"
      ],
      "metadata": {
        "id": "rvSzhCwxOsjd"
      }
    },
    {
      "cell_type": "code",
      "source": [
        "from sklearn.ensemble import RandomForestClassifier"
      ],
      "metadata": {
        "id": "7ea41kR3OvpS"
      },
      "execution_count": 30,
      "outputs": []
    },
    {
      "cell_type": "code",
      "source": [
        "rf=RandomForestClassifier()"
      ],
      "metadata": {
        "id": "Vb_OqVOOO12T"
      },
      "execution_count": 31,
      "outputs": []
    },
    {
      "cell_type": "code",
      "source": [
        "rf.fit(X_train,y_train)"
      ],
      "metadata": {
        "colab": {
          "base_uri": "https://localhost:8080/"
        },
        "id": "laRvvueHO6lD",
        "outputId": "d35037d5-19f1-4e07-9d29-fa07d9ef057e"
      },
      "execution_count": 32,
      "outputs": [
        {
          "output_type": "execute_result",
          "data": {
            "text/plain": [
              "RandomForestClassifier()"
            ]
          },
          "metadata": {},
          "execution_count": 32
        }
      ]
    },
    {
      "cell_type": "markdown",
      "source": [
        "**Predict** **Test** **Data**"
      ],
      "metadata": {
        "id": "7lxbYhv-PDC4"
      }
    },
    {
      "cell_type": "code",
      "source": [
        "y_pred=rf.predict(X_test)"
      ],
      "metadata": {
        "id": "vYJp-Yd3PNqT"
      },
      "execution_count": 33,
      "outputs": []
    },
    {
      "cell_type": "code",
      "source": [
        "y_pred"
      ],
      "metadata": {
        "colab": {
          "base_uri": "https://localhost:8080/"
        },
        "id": "rdL9rEQDPT8D",
        "outputId": "c5de3b45-af89-41a7-d1dd-557fe98ce147"
      },
      "execution_count": 34,
      "outputs": [
        {
          "output_type": "execute_result",
          "data": {
            "text/plain": [
              "array([0, 9, 7, 0, 8, 4, 1, 9, 7, 3, 7, 6, 6, 1, 6, 0, 6, 8, 1, 0, 3, 8,\n",
              "       7, 1, 1, 4, 4, 2, 4, 0, 5, 2, 3, 9, 6, 1, 5, 4, 2, 8, 1, 5, 4, 4,\n",
              "       8, 7, 5, 5, 8, 0, 8, 8, 4, 3, 3, 8, 9, 3, 7, 2, 4, 5, 2, 2, 8, 1,\n",
              "       6, 0, 1, 8, 7, 4, 2, 0, 4, 2, 8, 9, 3, 0, 6, 9, 7, 0, 3, 4, 9, 5,\n",
              "       5, 5, 7, 0, 9, 8, 1, 7, 2, 2, 5, 5, 7, 2, 0, 0, 0, 7, 0, 6, 8, 1,\n",
              "       8, 2, 5, 8, 7, 4, 3, 7, 9, 0, 5, 4, 1, 3, 3, 4, 8, 2, 7, 7, 3, 8,\n",
              "       3, 1, 8, 4, 3, 2, 0, 4, 8, 9, 0, 1, 0, 0, 9, 4, 5, 9, 8, 7, 5, 2,\n",
              "       8, 6, 6, 0, 3, 4, 2, 1, 0, 9, 9, 4, 4, 6, 4, 0, 1, 4, 4, 8, 0, 9,\n",
              "       7, 6, 7, 1, 4, 8, 5, 3, 2, 5, 3, 9, 1, 7, 1, 3, 5, 7, 0, 6, 8, 6,\n",
              "       7, 4, 0, 1, 0, 6, 2, 1, 7, 4, 9, 0, 6, 8, 6, 3, 3, 9, 8, 4, 9, 4,\n",
              "       1, 1, 9, 0, 7, 7, 8, 4, 4, 8, 8, 9, 3, 8, 2, 9, 2, 7, 2, 8, 3, 4,\n",
              "       1, 1, 6, 5, 4, 7, 5, 5, 7, 6, 1, 0, 6, 0, 9, 4, 4, 8, 6, 4, 9, 0,\n",
              "       0, 0, 4, 2, 5, 4, 9, 2, 4, 9, 0, 0, 4, 8, 8, 4, 1, 7, 5, 6, 2, 6,\n",
              "       8, 9, 9, 2, 3, 0, 6, 2, 5, 1, 5, 9, 5, 8, 4, 5, 7, 5, 7, 5, 7, 8,\n",
              "       8, 3, 7, 8, 5, 2, 9, 3, 6, 7, 1, 7, 1, 4, 1, 0, 5, 7, 1, 2, 7, 3,\n",
              "       1, 6, 2, 7, 4, 0, 6, 3, 3, 2, 6, 8, 1, 9, 7, 6, 1, 8, 8, 4, 9, 5,\n",
              "       2, 1, 6, 1, 4, 6, 5, 8, 1, 5, 6, 5, 0, 1, 4, 5, 0, 1, 2, 0, 5, 2,\n",
              "       3, 5, 6, 8, 9, 2, 3, 6, 0, 9, 0, 2, 4, 1, 5, 6, 0, 7, 1, 8, 5, 1,\n",
              "       0, 0, 1, 4, 0, 7, 5, 8, 0, 3, 9, 0, 8, 5, 8, 9, 9, 5, 2, 7, 7, 7,\n",
              "       9, 1, 6, 0, 2, 1, 4, 3, 3, 8, 7, 2, 4, 7, 3, 3, 0, 6, 5, 7, 3, 5,\n",
              "       4, 3, 9, 9, 3, 0, 5, 3, 6, 9])"
            ]
          },
          "metadata": {},
          "execution_count": 34
        }
      ]
    },
    {
      "cell_type": "markdown",
      "source": [
        "**Model** **Accuracy**"
      ],
      "metadata": {
        "id": "BZMmFVNePabL"
      }
    },
    {
      "cell_type": "code",
      "source": [
        "from sklearn.metrics import confusion_matrix,classification_report"
      ],
      "metadata": {
        "id": "HeXUPCu6PdYg"
      },
      "execution_count": 35,
      "outputs": []
    },
    {
      "cell_type": "code",
      "source": [
        "confusion_matrix(y_test,y_pred)"
      ],
      "metadata": {
        "colab": {
          "base_uri": "https://localhost:8080/"
        },
        "id": "UAlJE_MePh5y",
        "outputId": "722bda05-eddb-4450-eb5d-d9c3d9cbe68e"
      },
      "execution_count": 36,
      "outputs": [
        {
          "output_type": "execute_result",
          "data": {
            "text/plain": [
              "array([[52,  0,  0,  0,  1,  0,  0,  0,  0,  0],\n",
              "       [ 0, 43,  0,  0,  0,  0,  0,  0,  0,  0],\n",
              "       [ 0,  0, 37,  0,  0,  0,  0,  0,  0,  0],\n",
              "       [ 0,  0,  0, 37,  0,  0,  0,  0,  0,  0],\n",
              "       [ 0,  0,  0,  0, 50,  0,  0,  0,  0,  0],\n",
              "       [ 0,  0,  0,  0,  1, 44,  0,  0,  1,  0],\n",
              "       [ 1,  2,  0,  0,  0,  1, 38,  0,  0,  0],\n",
              "       [ 0,  0,  0,  0,  0,  0,  0, 45,  0,  0],\n",
              "       [ 0,  1,  1,  0,  0,  0,  0,  0, 49,  1],\n",
              "       [ 0,  0,  0,  2,  0,  1,  0,  2,  0, 40]])"
            ]
          },
          "metadata": {},
          "execution_count": 36
        }
      ]
    },
    {
      "cell_type": "code",
      "source": [
        "print(classification_report(y_test,y_pred))"
      ],
      "metadata": {
        "colab": {
          "base_uri": "https://localhost:8080/"
        },
        "id": "4Pp6X5gdPpdj",
        "outputId": "6d4609f7-8f86-404e-aa60-819dd783df6c"
      },
      "execution_count": 37,
      "outputs": [
        {
          "output_type": "stream",
          "name": "stdout",
          "text": [
            "              precision    recall  f1-score   support\n",
            "\n",
            "           0       0.98      0.98      0.98        53\n",
            "           1       0.93      1.00      0.97        43\n",
            "           2       0.97      1.00      0.99        37\n",
            "           3       0.95      1.00      0.97        37\n",
            "           4       0.96      1.00      0.98        50\n",
            "           5       0.96      0.96      0.96        46\n",
            "           6       1.00      0.90      0.95        42\n",
            "           7       0.96      1.00      0.98        45\n",
            "           8       0.98      0.94      0.96        52\n",
            "           9       0.98      0.89      0.93        45\n",
            "\n",
            "    accuracy                           0.97       450\n",
            "   macro avg       0.97      0.97      0.97       450\n",
            "weighted avg       0.97      0.97      0.97       450\n",
            "\n"
          ]
        }
      ]
    }
  ]
}